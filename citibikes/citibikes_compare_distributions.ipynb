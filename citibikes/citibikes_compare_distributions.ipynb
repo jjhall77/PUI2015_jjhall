{
 "cells": [
  {
   "cell_type": "code",
   "execution_count": 1,
   "metadata": {
    "collapsed": false
   },
   "outputs": [
    {
     "name": "stdout",
     "output_type": "stream",
     "text": [
      "Populating the interactive namespace from numpy and matplotlib\n"
     ]
    }
   ],
   "source": [
    "#Assignment #4, part 1\n",
    "import numpy as np\n",
    "import pandas as pd\n",
    "import os\n",
    "import matplotlib.pyplot as plt\n",
    "import csv\n",
    "import datetime\n",
    "import urllib\n",
    "import zipfile\n",
    "import scipy.stats \n",
    "%pylab inline"
   ]
  },
  {
   "cell_type": "code",
   "execution_count": 2,
   "metadata": {
    "collapsed": false
   },
   "outputs": [],
   "source": [
    "#borrowed this code, download and unzip\n",
    "def getunzipped(theurl, thedir):\n",
    "  name = os.path.join(thedir, 'temp.zip')\n",
    "  try:\n",
    "    name, hdrs = urllib.urlretrieve(theurl, name)\n",
    "  except IOError, e:\n",
    "    print \"Can't retrieve %r to %r: %s\" % (theurl, thedir, e)\n",
    "    return\n",
    "  try:\n",
    "    z = zipfile.ZipFile(name)\n",
    "  except zipfile.error, e:\n",
    "    print \"Bad zipfile (from %r): %s\" % (theurl, e)\n",
    "    return\n",
    "  for n in z.namelist():\n",
    "    dest = os.path.join(thedir, n)\n",
    "    destdir = os.path.dirname(dest)\n",
    "    if not os.path.isdir(destdir):\n",
    "      os.makedirs(destdir)\n",
    "    data = z.read(n)\n",
    "    f = open(dest, 'w')\n",
    "    f.write(data)\n",
    "    f.close()\n",
    "  z.close()\n",
    "  os.unlink(name)\n",
    "    \n",
    "    "
   ]
  },
  {
   "cell_type": "code",
   "execution_count": 3,
   "metadata": {
    "collapsed": false
   },
   "outputs": [],
   "source": [
    "if os.path.isfile('2014-08 - Citi Bike trip data.csv') is False:\n",
    "    getunzipped('https://s3.amazonaws.com/tripdata/201408-citibike-tripdata.zip',os.getcwd())\n",
    "citi_df = pd.read_csv('2014-08 - Citi Bike trip data.csv')"
   ]
  },
  {
   "cell_type": "code",
   "execution_count": 4,
   "metadata": {
    "collapsed": false
   },
   "outputs": [],
   "source": [
    "citi_df = citi_df[citi_df['birth year'] != '\\N']\n",
    "citi_df = citi_df[citi_df['gender'] != 0]"
   ]
  },
  {
   "cell_type": "code",
   "execution_count": 5,
   "metadata": {
    "collapsed": false
   },
   "outputs": [],
   "source": [
    "#create age variable--use 2014. This data set is from then.\n",
    "citi_df['birth year'] = citi_df['birth year'].astype(int)\n",
    "citi_df['age']=2014-(citi_df['birth year'])"
   ]
  },
  {
   "cell_type": "code",
   "execution_count": 6,
   "metadata": {
    "collapsed": false
   },
   "outputs": [],
   "source": [
    "#create aggregates of ages and genders\n",
    "# Create age bins\n",
    "bins = np.arange(0, 99, 5)\n",
    "\n",
    "# Aggregates of ages, #find better code!! Alex? Code review.\n",
    "ag1 = citi_df.loc[citi_df['gender'] == 1].gender.groupby(pd.cut(citi_df.age,bins)).agg([count_nonzero])\n",
    "ag2 = citi_df.loc[citi_df['gender'] == 2].gender.groupby(pd.cut(citi_df.age,bins)).agg([count_nonzero])\n",
    "#ag1.plot(kind=\"bar\")\n",
    "#ag2.plot(kind=\"bar\")"
   ]
  },
  {
   "cell_type": "code",
   "execution_count": 7,
   "metadata": {
    "collapsed": false
   },
   "outputs": [],
   "source": [
    "# Aggregate the cumulative sum of each age group\n",
    "cs1=citi_df.loc[citi_df['gender'] == 1].gender.groupby(pd.cut(citi_df.age,bins)).agg([count_nonzero]).cumsum()\n",
    "cs2 = citi_df.loc[citi_df['gender'] == 2].gender.groupby(pd.cut(citi_df.age,bins)).agg([count_nonzero]).cumsum()\n",
    "\n",
    "#cs1.plot()\n",
    "#cs2.plot()"
   ]
  },
  {
   "cell_type": "code",
   "execution_count": 8,
   "metadata": {
    "collapsed": false
   },
   "outputs": [
    {
     "name": "stdout",
     "output_type": "stream",
     "text": [
      "KS 0.000962213356827\n"
     ]
    },
    {
     "data": {
      "image/png": "[encoded data removed]",
      "text/plain": [
       "<matplotlib.figure.Figure at 0x11d399e90>"
      ]
     },
     "metadata": {},
     "output_type": "display_data"
    }
   ],
   "source": [
    "# Plot and find KS (for verification purposes only)\n",
    "plt.plot(bins[:-1]+5,cs1/cs1.max())\n",
    "plt.plot(bins[:-1]+5,cs2/cs2.max())\n",
    "KS = np.nanmax(np.array(cs1/cs1.max())-np.array(cs2/cs2.max()))\n",
    "print \"KS\", KS\n",
    "\n",
    "\n",
    "csn1 = np.abs(cs1/cs1.max()) #normalize\n",
    "csn2 = np.abs(cs2/cs2.max())\n"
   ]
  },
  {
   "cell_type": "code",
   "execution_count": 9,
   "metadata": {
    "collapsed": false
   },
   "outputs": [],
   "source": [
    "x=csn1.merge(csn2,left_index=True, right_index=True).dropna(how='any')"
   ]
  },
  {
   "cell_type": "code",
   "execution_count": 10,
   "metadata": {
    "collapsed": false
   },
   "outputs": [
    {
     "name": "stdout",
     "output_type": "stream",
     "text": [
      "The Pearson correlation coefficient is: 0.996981 and the p-value is 0.000000\n"
     ]
    }
   ],
   "source": [
    "#conduct pearson correlation test\n",
    "pears = scipy.stats.pearsonr(x['count_nonzero_x'],x['count_nonzero_y'])\n",
    "print 'The Pearson correlation coefficient is: %f and the p-value is %f' %(pears[0],pears[1])"
   ]
  },
  {
   "cell_type": "markdown",
   "metadata": {},
   "source": [
    "These distributions are strongly correlated according to Pearson's."
   ]
  },
  {
   "cell_type": "code",
   "execution_count": 11,
   "metadata": {
    "collapsed": false
   },
   "outputs": [
    {
     "name": "stdout",
     "output_type": "stream",
     "text": [
      "The Spearman rho is 1.000000 and the p-value is 0.000000\n"
     ]
    }
   ],
   "source": [
    "#conduct spearman\n",
    "spears=scipy.stats.spearmanr(x['count_nonzero_x'],x['count_nonzero_y'])\n",
    "print 'The Spearman rho is %f and the p-value is %f' %(spears[0],spears[1])"
   ]
  },
  {
   "cell_type": "markdown",
   "metadata": {},
   "source": [
    "The distributions are correlated according to Spearman's."
   ]
  },
  {
   "cell_type": "code",
   "execution_count": 12,
   "metadata": {
    "collapsed": false
   },
   "outputs": [
    {
     "name": "stdout",
     "output_type": "stream",
     "text": [
      "The KS statistic is 0.066667 and the p-value is 1.000000\n"
     ]
    }
   ],
   "source": [
    "#conduct two-sample K-S test\n",
    "ks=scipy.stats.ks_2samp(x['count_nonzero_x'],x['count_nonzero_y'])\n",
    "print 'The KS statistic is %f and the p-value is %f' %(ks[0],ks[1])"
   ]
  },
  {
   "cell_type": "markdown",
   "metadata": {},
   "source": [
    "The distributions are correlated according to the KS statistic.\n",
    "\n",
    "These tests all suggest that we should fail to reject the null hypotheses that states that the age distributions are the same across genders for this month."
   ]
  },
  {
   "cell_type": "code",
   "execution_count": 13,
   "metadata": {
    "collapsed": false
   },
   "outputs": [],
   "source": [
    "#Part 2 of HW4, assignment 1: Time of Day, Day vs. Night\n",
    "citi_df['starttime'] = pd.to_datetime(citi_df['starttime'])\n",
    "citi_df['dayhour'] = citi_df.starttime.apply(lambda x: x.hour)"
   ]
  },
  {
   "cell_type": "code",
   "execution_count": 14,
   "metadata": {
    "collapsed": false
   },
   "outputs": [],
   "source": [
    "#create evening and daytime split\n",
    "def todr(hour): #time of day'r\n",
    "    if hour >= 19 or hour <=7:\n",
    "        return 'evening'\n",
    "    else:\n",
    "        return 'daytime'\n",
    "citi_df['tod'] = citi_df.dayhour.apply(todr)"
   ]
  },
  {
   "cell_type": "code",
   "execution_count": 15,
   "metadata": {
    "collapsed": false
   },
   "outputs": [],
   "source": [
    "# Aggregates of ages, #find better code!! Alex? Code review.\n",
    "ag1 = citi_df.loc[citi_df['tod'] == 'evening'].tod.groupby(pd.cut(citi_df.age,bins)).agg([count_nonzero])\n",
    "ag2 = citi_df.loc[citi_df['tod'] == 'daytime'].tod.groupby(pd.cut(citi_df.age,bins)).agg([count_nonzero])\n",
    "#ag1.plot(kind=\"bar\")\n",
    "#ag2.plot(kind=\"bar\")"
   ]
  },
  {
   "cell_type": "code",
   "execution_count": 16,
   "metadata": {
    "collapsed": false
   },
   "outputs": [
    {
     "name": "stdout",
     "output_type": "stream",
     "text": [
      "KS 0.0694282017946\n"
     ]
    },
    {
     "data": {
      "image/png": "[encoded data removed]",
      "text/plain": [
       "<matplotlib.figure.Figure at 0x10b9057d0>"
      ]
     },
     "metadata": {},
     "output_type": "display_data"
    }
   ],
   "source": [
    "# Aggregates of ages, #find better code!! Alex? Code review.\n",
    "cs1 = citi_df.loc[citi_df['tod'] == 'evening'].tod.groupby(pd.cut(citi_df.age,bins)).agg([count_nonzero]).cumsum()\n",
    "cs2 = citi_df.loc[citi_df['tod'] == 'daytime'].tod.groupby(pd.cut(citi_df.age,bins)).agg([count_nonzero]).cumsum()\n",
    "# Plot and find KS (for verification purposes only)\n",
    "plt.plot(bins[:-1]+5,cs1/cs1.max())\n",
    "plt.plot(bins[:-1]+5,cs2/cs2.max())\n",
    "KS = np.nanmax(np.array(cs1/cs1.max())-np.array(cs2/cs2.max()))\n",
    "print \"KS\", KS\n",
    "\n",
    "csn1 = np.abs(cs1/cs1.max()) #normalize\n",
    "csn2 = np.abs(cs2/cs2.max())\n"
   ]
  },
  {
   "cell_type": "code",
   "execution_count": 17,
   "metadata": {
    "collapsed": false
   },
   "outputs": [
    {
     "name": "stdout",
     "output_type": "stream",
     "text": [
      "The Pearson correlation coefficient is: 0.997753 and the p-value is 0.000000\n"
     ]
    }
   ],
   "source": [
    "x=csn1.merge(csn2,left_index=True, right_index=True).dropna(how='any')\n",
    "\n",
    "\n",
    "#conduct pearson correlation test\n",
    "pears = scipy.stats.pearsonr(x['count_nonzero_x'],x['count_nonzero_y'])\n",
    "print 'The Pearson correlation coefficient is: %f and the p-value is %f' %(pears[0],pears[1])\n"
   ]
  },
  {
   "cell_type": "markdown",
   "metadata": {},
   "source": [
    "The distributions are correlated according to Pearson's."
   ]
  },
  {
   "cell_type": "code",
   "execution_count": 18,
   "metadata": {
    "collapsed": false
   },
   "outputs": [
    {
     "name": "stdout",
     "output_type": "stream",
     "text": [
      "The Spearman rho is 1.000000 and the p-value is 0.000000\n"
     ]
    }
   ],
   "source": [
    "#conduct spearman\n",
    "spears=scipy.stats.spearmanr(x['count_nonzero_x'],x['count_nonzero_y'])\n",
    "print 'The Spearman rho is %f and the p-value is %f' %(spears[0],spears[1])"
   ]
  },
  {
   "cell_type": "markdown",
   "metadata": {},
   "source": [
    "The distributions are correlated according to Spearman's"
   ]
  },
  {
   "cell_type": "code",
   "execution_count": 19,
   "metadata": {
    "collapsed": false
   },
   "outputs": [
    {
     "name": "stdout",
     "output_type": "stream",
     "text": [
      "The KS statistic is 0.066667 and the p-value is 1.000000\n"
     ]
    }
   ],
   "source": [
    "#conduct two-sample K-S test\n",
    "ks=scipy.stats.ks_2samp(x['count_nonzero_x'],x['count_nonzero_y'])\n",
    "print 'The KS statistic is %f and the p-value is %f' %(ks[0],ks[1])"
   ]
  },
  {
   "cell_type": "code",
   "execution_count": 20,
   "metadata": {
    "collapsed": false
   },
   "outputs": [],
   "source": [
    " os.remove('2014-08 - Citi Bike trip data.csv') #git pushes can't handle it"
   ]
  },
  {
   "cell_type": "markdown",
   "metadata": {
    "collapsed": true
   },
   "source": [
    "All of these tests suggest that we should fail to reject the null hypothesis that the age distribution of riders is the same across \n",
    "different times of day."
   ]
  }
 ],
 "metadata": {
  "kernelspec": {
   "display_name": "Python 2",
   "language": "python",
   "name": "python2"
  },
  "language_info": {
   "codemirror_mode": {
    "name": "ipython",
    "version": 2
   },
   "file_extension": ".py",
   "mimetype": "text/x-python",
   "name": "python",
   "nbconvert_exporter": "python",
   "pygments_lexer": "ipython2",
   "version": "2.7.9"
  }
 },
 "nbformat": 4,
 "nbformat_minor": 0
}
