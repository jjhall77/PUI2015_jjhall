{
 "cells": [
  {
   "cell_type": "code",
   "execution_count": 2,
   "metadata": {
    "collapsed": false
   },
   "outputs": [
    {
     "name": "stdout",
     "output_type": "stream",
     "text": [
      "Populating the interactive namespace from numpy and matplotlib\n"
     ]
    }
   ],
   "source": [
    "import numpy as np\n",
    "import pandas as pd\n",
    "import os\n",
    "import matplotlib.pyplot as plt\n",
    "import csv\n",
    "import datetime\n",
    "import urllib\n",
    "import zipfile\n",
    "import scipy.stats as stat\n",
    "%pylab inline"
   ]
  },
  {
   "cell_type": "code",
   "execution_count": 3,
   "metadata": {
    "collapsed": false
   },
   "outputs": [],
   "source": [
    "#borrowed this code, download and unzip\n",
    "def getunzipped(theurl, thedir):\n",
    "  name = os.path.join(thedir, 'temp.zip')\n",
    "  try:\n",
    "    name, hdrs = urllib.urlretrieve(theurl, name)\n",
    "  except IOError, e:\n",
    "    print \"Can't retrieve %r to %r: %s\" % (theurl, thedir, e)\n",
    "    return\n",
    "  try:\n",
    "    z = zipfile.ZipFile(name)\n",
    "  except zipfile.error, e:\n",
    "    print \"Bad zipfile (from %r): %s\" % (theurl, e)\n",
    "    return\n",
    "  for n in z.namelist():\n",
    "    dest = os.path.join(thedir, n)\n",
    "    destdir = os.path.dirname(dest)\n",
    "    if not os.path.isdir(destdir):\n",
    "      os.makedirs(destdir)\n",
    "    data = z.read(n)\n",
    "    f = open(dest, 'w')\n",
    "    f.write(data)\n",
    "    f.close()\n",
    "  z.close()\n",
    "  os.unlink(name)\n",
    "    \n",
    "    "
   ]
  },
  {
   "cell_type": "code",
   "execution_count": 4,
   "metadata": {
    "collapsed": false
   },
   "outputs": [],
   "source": [
    "#check to see if file already exists in directory\n",
    "if os.path.isfile('2014-02 - Citi Bike trip data.csv') is False:\n",
    "    getunzipped('https://s3.amazonaws.com/tripdata/201402-citibike-tripdata.zip',os.getcwd())\n",
    "\n",
    "if os.path.isfile('2014-08 - Citi Bike trip data.csv') is False:\n",
    "    getunzipped('https://s3.amazonaws.com/tripdata/201408-citibike-tripdata.zip',os.getcwd())\n"
   ]
  },
  {
   "cell_type": "code",
   "execution_count": 5,
   "metadata": {
    "collapsed": false
   },
   "outputs": [],
   "source": [
    "#read csv's\n",
    "\n",
    "df0 = pd.read_csv('2014-02 - Citi Bike trip data.csv')\n",
    "df1 = pd.read_csv('2014-08 - Citi Bike trip data.csv')"
   ]
  },
  {
   "cell_type": "code",
   "execution_count": 6,
   "metadata": {
    "collapsed": false
   },
   "outputs": [],
   "source": [
    "#we are doing a two sample test of proportions, so:\n",
    "\n",
    "def ztest_twosides(teststat, nullvalue,  se, alpha):\n",
    "    Ztest = (teststat-nullvalue)/se\n",
    "    pvalue = stat.norm.pdf(Ztest)\n",
    "    if Ztest > 0.: #this considers both sides of 0, e.g. when Z is 1SD, the value ~ .8413\n",
    "        pvalue = 1. -pvalue\n",
    "    pvalue *= 2.\n",
    "    return program_output(pvalue, alpha)\n",
    "\n",
    "def two_proportions(x0, n0, x1, n1, alpha=0.05):\n",
    "    p0 = float(x0)/n0\n",
    "    p1 = float(x1)/n1\n",
    "    p = float(x0 +x1)/(n0+n1)\n",
    "    samplestat =  p0 - p1 #sample statistic\n",
    "    se = sqrt(p*(1.0-p) * (1.0/n0 + 1.0/n1))\n",
    "    print 'p_0 = %f and p_1= %f' %(p0,p1)\n",
    "    return ztest_twosides(samplestat,0,  se,  alpha)\n",
    "\n",
    "def program_output(pvalue,alpha):\n",
    "    print 'The Null hypothesis is {}'.format( 'rejected.' if pvalue<alpha  else 'not rejected.') \n",
    "    print 'The p-value is %f.' %(pvalue)\n"
   ]
  },
  {
   "cell_type": "code",
   "execution_count": 7,
   "metadata": {
    "collapsed": false
   },
   "outputs": [],
   "source": [
    "#fraction of 'tourists' is the desired proportion, and we'd liek to see what happend with the 'treatment', i.e. summer.\n",
    "x0 = df0['usertype'].value_counts()[1]  #number of customers\n",
    "x1 = df1['usertype'].value_counts()[1]\n",
    "n0 = len(df0.index)\n",
    "n1 = len(df1.index)\n",
    "s0 = n0-x0 #no. of subscribers\n",
    "s1 = n1-x1 "
   ]
  },
  {
   "cell_type": "code",
   "execution_count": 8,
   "metadata": {
    "collapsed": false
   },
   "outputs": [
    {
     "name": "stdout",
     "output_type": "stream",
     "text": [
      "p_0 = 0.029888 and p_1= 0.141023\n",
      "The Null hypothesis is rejected.\n",
      "The p-value is 0.000000.\n"
     ]
    }
   ],
   "source": [
    "two_proportions(x0, n0, x1, n1, 0.01) #should return p-value, z, and critical values\n"
   ]
  },
  {
   "cell_type": "markdown",
   "metadata": {},
   "source": [
    "We have completed the assignment but are now interested in a ChiSquared test, just because."
   ]
  },
  {
   "cell_type": "code",
   "execution_count": 10,
   "metadata": {
    "collapsed": false
   },
   "outputs": [
    {
     "data": {
      "text/plain": [
       "(218019, 6717)"
      ]
     },
     "execution_count": 10,
     "metadata": {},
     "output_type": "execute_result"
    }
   ],
   "source": [
    "s0,x0"
   ]
  },
  {
   "cell_type": "code",
   "execution_count": 12,
   "metadata": {
    "collapsed": false
   },
   "outputs": [
    {
     "name": "stdout",
     "output_type": "stream",
     "text": [
      "Test Statistic: 21311.9168843\n",
      "p-value: 0.0\n",
      "Degrees of Freedom: 1\n",
      "\n",
      "[[  26969.07654358  115621.92345642]\n",
      " [ 197766.92345642  847867.07654358]]\n"
     ]
    }
   ],
   "source": [
    "import scipy.stats\n",
    "house = [ [ x0, x1 ], [ s0, s1 ] ]\n",
    "chi2, p, ddof, expected = scipy.stats.chi2_contingency( house )\n",
    "msg = \"Test Statistic: {}\\np-value: {}\\nDegrees of Freedom: {}\\n\"\n",
    "print( msg.format( chi2, p, ddof ) )\n",
    "print( expected )"
   ]
  },
  {
   "cell_type": "code",
   "execution_count": null,
   "metadata": {
    "collapsed": true
   },
   "outputs": [],
   "source": []
  },
  {
   "cell_type": "code",
   "execution_count": null,
   "metadata": {
    "collapsed": true
   },
   "outputs": [],
   "source": []
  },
  {
   "cell_type": "code",
   "execution_count": null,
   "metadata": {
    "collapsed": true
   },
   "outputs": [],
   "source": []
  },
  {
   "cell_type": "code",
   "execution_count": 11,
   "metadata": {
    "collapsed": false
   },
   "outputs": [],
   "source": [
    "#github can't handle it\n",
    "os.remove('2014-02 - Citi Bike trip data.csv')\n",
    "os.remove('2014-08 - Citi Bike trip data.csv')"
   ]
  },
  {
   "cell_type": "code",
   "execution_count": 2,
   "metadata": {
    "collapsed": false
   },
   "outputs": [],
   "source": [
    "#maybe if we wish to do additional testing especially ChiSq, we'd look at day of week and proportion of 'Customers'?\n",
    "def weekday_maker(df,column_name):\n",
    "    #create error controls here\n",
    "    df[column_name] = pd.to_datetime(df[column_name])\n",
    "    df['weekday'] = df[column_name].dt.dayofweek #create day of week\n",
    "    df['date']=df[column_name].apply(lambda x:x.date()) #create date for grouping\n",
    "    days = {0:'Mon',1:'Tues',2:'Weds',3:'Thurs',4:'Fri',5:'Sat',6:'Sun'}\n",
    "    df['weekday'] = df['weekday'].apply(lambda x: days[x])\n",
    "    \n"
   ]
  },
  {
   "cell_type": "code",
   "execution_count": 3,
   "metadata": {
    "collapsed": false
   },
   "outputs": [
    {
     "ename": "NameError",
     "evalue": "name 'df1' is not defined",
     "output_type": "error",
     "traceback": [
      "\u001b[0;31m---------------------------------------------------------------------------\u001b[0m",
      "\u001b[0;31mNameError\u001b[0m                                 Traceback (most recent call last)",
      "\u001b[0;32m<ipython-input-3-8faa60482fb7>\u001b[0m in \u001b[0;36m<module>\u001b[0;34m()\u001b[0m\n\u001b[0;32m----> 1\u001b[0;31m \u001b[0mweekday_maker\u001b[0m\u001b[0;34m(\u001b[0m\u001b[0mdf1\u001b[0m\u001b[0;34m,\u001b[0m\u001b[0;34m'starttime'\u001b[0m\u001b[0;34m)\u001b[0m\u001b[0;34m\u001b[0m\u001b[0m\n\u001b[0m\u001b[1;32m      2\u001b[0m \u001b[0mweekday_maker\u001b[0m\u001b[0;34m(\u001b[0m\u001b[0mdf0\u001b[0m\u001b[0;34m,\u001b[0m\u001b[0;34m'starttime'\u001b[0m\u001b[0;34m)\u001b[0m\u001b[0;34m\u001b[0m\u001b[0m\n",
      "\u001b[0;31mNameError\u001b[0m: name 'df1' is not defined"
     ]
    }
   ],
   "source": [
    "weekday_maker(df1,'starttime')\n",
    "weekday_maker(df0,'starttime')"
   ]
  },
  {
   "cell_type": "code",
   "execution_count": null,
   "metadata": {
    "collapsed": false
   },
   "outputs": [],
   "source": []
  },
  {
   "cell_type": "code",
   "execution_count": 20,
   "metadata": {
    "collapsed": false
   },
   "outputs": [
    {
     "ename": "AttributeError",
     "evalue": "'function' object has no attribute 'apply'",
     "output_type": "error",
     "traceback": [
      "\u001b[0;31m---------------------------------------------------------------------------\u001b[0m",
      "\u001b[0;31mAttributeError\u001b[0m                            Traceback (most recent call last)",
      "\u001b[0;32m<ipython-input-20-e3fb429d9fb2>\u001b[0m in \u001b[0;36m<module>\u001b[0;34m()\u001b[0m\n\u001b[0;32m----> 1\u001b[0;31m \u001b[0mdf0\u001b[0m\u001b[0;34m.\u001b[0m\u001b[0mgroupby\u001b[0m\u001b[0;34m(\u001b[0m\u001b[0;34m[\u001b[0m\u001b[0;34m'date'\u001b[0m\u001b[0;34m]\u001b[0m\u001b[0;34m)\u001b[0m\u001b[0;34m.\u001b[0m\u001b[0mmean\u001b[0m\u001b[0;34m.\u001b[0m\u001b[0mapply\u001b[0m\u001b[0;34m(\u001b[0m\u001b[0mlen\u001b[0m\u001b[0;34m)\u001b[0m\u001b[0;34m\u001b[0m\u001b[0m\n\u001b[0m",
      "\u001b[0;31mAttributeError\u001b[0m: 'function' object has no attribute 'apply'"
     ]
    }
   ],
   "source": [
    "df0.groupby(['date']).mean.apply(len)"
   ]
  },
  {
   "cell_type": "code",
   "execution_count": 24,
   "metadata": {
    "collapsed": true
   },
   "outputs": [],
   "source": [
    "read_csv"
   ]
  },
  {
   "cell_type": "code",
   "execution_count": null,
   "metadata": {
    "collapsed": true
   },
   "outputs": [],
   "source": []
  }
 ],
 "metadata": {
  "kernelspec": {
   "display_name": "Python 2",
   "language": "python",
   "name": "python2"
  },
  "language_info": {
   "codemirror_mode": {
    "name": "ipython",
    "version": 2
   },
   "file_extension": ".py",
   "mimetype": "text/x-python",
   "name": "python",
   "nbconvert_exporter": "python",
   "pygments_lexer": "ipython2",
   "version": "2.7.9"
  }
 },
 "nbformat": 4,
 "nbformat_minor": 0
}
