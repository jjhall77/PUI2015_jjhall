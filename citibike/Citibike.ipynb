{
 "cells": [
  {
   "cell_type": "markdown",
   "metadata": {},
   "source": [
    "1) Describe your idea - NYC is a popular year-round tourist destinations in the world and a subset of them use the Citibike system. NYC also experiences four seasons. We are interested in knowing if the proportion of tourists that use Citibike in the winter is the same as the proportion of tourists that use the system in the summer. We will use February 2014 for the winter and August 2014 for the summer. Although we do not know if a Citibike user is a tourist, we will *assume* that \"Subscribers\" are local to NYC, hence the subscription and \"Customers\" are largely not.\n",
    "\n",
    "2) Testable hypothesis - The proportion of Citibike \"Customers\" is the same in the winter and the summer\n",
    "H0: The proportion of Cititbike customers and subscribers is the same in February 2014 and August 2014 Ha: The proportion is not the same.\n",
    "\n",
    "3) confidence level is 95%, alpha = .05\n",
    "\n",
    "4) We used a z-test to compare two proportions. Additionally, we did a Chi-Squared test, just because.\n"
   ]
  },
  {
   "cell_type": "code",
   "execution_count": 1,
   "metadata": {
    "collapsed": false
   },
   "outputs": [
    {
     "name": "stdout",
     "output_type": "stream",
     "text": [
      "Populating the interactive namespace from numpy and matplotlib\n"
     ]
    }
   ],
   "source": [
    "import numpy as np\n",
    "import pandas as pd\n",
    "import os\n",
    "import matplotlib.pyplot as plt\n",
    "import csv\n",
    "import datetime\n",
    "import urllib\n",
    "import zipfile\n",
    "import scipy.stats as stat\n",
    "%pylab inline"
   ]
  },
  {
   "cell_type": "code",
   "execution_count": 2,
   "metadata": {
    "collapsed": false
   },
   "outputs": [],
   "source": [
    "#borrowed this code, download and unzip\n",
    "def getunzipped(theurl, thedir):\n",
    "  name = os.path.join(thedir, 'temp.zip')\n",
    "  try:\n",
    "    name, hdrs = urllib.urlretrieve(theurl, name)\n",
    "  except IOError, e:\n",
    "    print \"Can't retrieve %r to %r: %s\" % (theurl, thedir, e)\n",
    "    return\n",
    "  try:\n",
    "    z = zipfile.ZipFile(name)\n",
    "  except zipfile.error, e:\n",
    "    print \"Bad zipfile (from %r): %s\" % (theurl, e)\n",
    "    return\n",
    "  for n in z.namelist():\n",
    "    dest = os.path.join(thedir, n)\n",
    "    destdir = os.path.dirname(dest)\n",
    "    if not os.path.isdir(destdir):\n",
    "      os.makedirs(destdir)\n",
    "    data = z.read(n)\n",
    "    f = open(dest, 'w')\n",
    "    f.write(data)\n",
    "    f.close()\n",
    "  z.close()\n",
    "  os.unlink(name)\n",
    "    \n",
    "    "
   ]
  },
  {
   "cell_type": "code",
   "execution_count": 3,
   "metadata": {
    "collapsed": false
   },
   "outputs": [],
   "source": [
    "#check to see if file already exists in directory\n",
    "if os.path.isfile('2014-02 - Citi Bike trip data.csv') is False:\n",
    "    getunzipped('https://s3.amazonaws.com/tripdata/201402-citibike-tripdata.zip',os.getcwd())\n",
    "\n",
    "if os.path.isfile('2014-08 - Citi Bike trip data.csv') is False:\n",
    "    getunzipped('https://s3.amazonaws.com/tripdata/201408-citibike-tripdata.zip',os.getcwd())\n"
   ]
  },
  {
   "cell_type": "code",
   "execution_count": 4,
   "metadata": {
    "collapsed": false
   },
   "outputs": [],
   "source": [
    "#read csv's\n",
    "\n",
    "df0 = pd.read_csv('2014-02 - Citi Bike trip data.csv')\n",
    "df1 = pd.read_csv('2014-08 - Citi Bike trip data.csv')"
   ]
  },
  {
   "cell_type": "code",
   "execution_count": 5,
   "metadata": {
    "collapsed": false
   },
   "outputs": [],
   "source": [
    "#we are doing a two sample test of proportions, so:\n",
    "\n",
    "def ztest_twosides(teststat, nullvalue,  se, alpha):\n",
    "    Ztest = (teststat-nullvalue)/se\n",
    "    pvalue = stat.norm.pdf(Ztest)\n",
    "    if Ztest > 0.: #this considers both sides of 0, e.g. when Z is 1SD, the value ~ .8413\n",
    "        pvalue = 1. -pvalue\n",
    "    pvalue *= 2.\n",
    "    return program_output(pvalue, alpha)\n",
    "\n",
    "def two_proportions(x0, n0, x1, n1, alpha=0.05):\n",
    "    p0 = float(x0)/n0\n",
    "    p1 = float(x1)/n1\n",
    "    p = float(x0 +x1)/(n0+n1)\n",
    "    samplestat =  p0 - p1 #sample statistic\n",
    "    se = sqrt(p*(1.0-p) * (1.0/n0 + 1.0/n1))\n",
    "    print 'p_0 = %f and p_1= %f' %(p0,p1)\n",
    "    return ztest_twosides(samplestat,0,  se,  alpha)\n",
    "\n",
    "def program_output(pvalue,alpha):\n",
    "    print 'The Null hypothesis is {}'.format( 'rejected.' if pvalue<alpha  else 'not rejected.') \n",
    "    print 'The p-value is %f.' %(pvalue)\n"
   ]
  },
  {
   "cell_type": "code",
   "execution_count": 6,
   "metadata": {
    "collapsed": false
   },
   "outputs": [],
   "source": [
    "#fraction of 'tourists' is the desired proportion, and we'd liek to see what happend with the 'treatment', i.e. summer.\n",
    "x0 = df0['usertype'].value_counts()[1]  #number of customers\n",
    "x1 = df1['usertype'].value_counts()[1]\n",
    "n0 = len(df0.index)\n",
    "n1 = len(df1.index)\n",
    "s0 = n0-x0 #no. of subscribers\n",
    "s1 = n1-x1 "
   ]
  },
  {
   "cell_type": "code",
   "execution_count": 7,
   "metadata": {
    "collapsed": false
   },
   "outputs": [
    {
     "name": "stdout",
     "output_type": "stream",
     "text": [
      "p_0 = 0.029888 and p_1= 0.141023\n",
      "The Null hypothesis is rejected.\n",
      "The p-value is 0.000000.\n"
     ]
    }
   ],
   "source": [
    "two_proportions(x0, n0, x1, n1, 0.01) #should return p-value, z, and critical values\n"
   ]
  },
  {
   "cell_type": "markdown",
   "metadata": {},
   "source": [
    "We have completed the assignment but are now interested in a ChiSquared test, just because."
   ]
  },
  {
   "cell_type": "code",
   "execution_count": 8,
   "metadata": {
    "collapsed": false,
    "scrolled": true
   },
   "outputs": [
    {
     "name": "stdout",
     "output_type": "stream",
     "text": [
      "Test Statistic: 21311.9168843\n",
      "p-value: 0.0\n",
      "Degrees of Freedom: 1\n",
      "\n",
      "[[  26969.07654358  115621.92345642]\n",
      " [ 197766.92345642  847867.07654358]]\n"
     ]
    }
   ],
   "source": [
    "import scipy.stats\n",
    "months = [ [ x0, x1 ], [ s0, s1 ] ]\n",
    "chi2, p, ddof, expected = scipy.stats.chi2_contingency( months )\n",
    "msg = \"Test Statistic: {}\\np-value: {}\\nDegrees of Freedom: {}\\n\"\n",
    "print( msg.format( chi2, p, ddof ) )\n",
    "print( expected )"
   ]
  },
  {
   "cell_type": "markdown",
   "metadata": {},
   "source": [
    "The Chi-Square test also tells us to reject the null."
   ]
  },
  {
   "cell_type": "code",
   "execution_count": 9,
   "metadata": {
    "collapsed": false
   },
   "outputs": [],
   "source": [
    "#github can't handle it, so let's get rid of it.\n",
    "os.remove('2014-02 - Citi Bike trip data.csv')\n",
    "os.remove('2014-08 - Citi Bike trip data.csv')"
   ]
  },
  {
   "cell_type": "code",
   "execution_count": null,
   "metadata": {
    "collapsed": true
   },
   "outputs": [],
   "source": []
  },
  {
   "cell_type": "code",
   "execution_count": null,
   "metadata": {
    "collapsed": true
   },
   "outputs": [],
   "source": []
  }
 ],
 "metadata": {
  "kernelspec": {
   "display_name": "Python 2",
   "language": "python",
   "name": "python2"
  },
  "language_info": {
   "codemirror_mode": {
    "name": "ipython",
    "version": 2
   },
   "file_extension": ".py",
   "mimetype": "text/x-python",
   "name": "python",
   "nbconvert_exporter": "python",
   "pygments_lexer": "ipython2",
   "version": "2.7.9"
  }
 },
 "nbformat": 4,
 "nbformat_minor": 0
}
