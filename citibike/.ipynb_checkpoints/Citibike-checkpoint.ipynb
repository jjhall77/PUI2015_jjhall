{
 "cells": [
  {
   "cell_type": "code",
   "execution_count": 30,
   "metadata": {
    "collapsed": false
   },
   "outputs": [
    {
     "name": "stdout",
     "output_type": "stream",
     "text": [
      "Populating the interactive namespace from numpy and matplotlib\n"
     ]
    }
   ],
   "source": [
    "import numpy as np\n",
    "import pandas as pd\n",
    "import os\n",
    "import matplotlib.pyplot as plt\n",
    "import csv\n",
    "import scipy.stats as stat\n",
    "%pylab inline"
   ]
  },
  {
   "cell_type": "code",
   "execution_count": 43,
   "metadata": {
    "collapsed": false
   },
   "outputs": [],
   "source": [
    "#have to figure out how to download file from somewhere else. If we keep this in the directory, github gets clogged.\n",
    "\n",
    "os.chdir('/Users/johnhall/PUI2015/')\n",
    "df0 = pd.read_csv('2014-02 - Citi Bike trip data.csv')\n",
    "df1 = pd.read_csv('2014-08 - Citi Bike trip data.csv')"
   ]
  },
  {
   "cell_type": "code",
   "execution_count": 44,
   "metadata": {
    "collapsed": false
   },
   "outputs": [],
   "source": [
    "#we are doing a two sample test of proportions, so:\n",
    "\n",
    "def ztest_twosides(teststat, nullvalue,  se, alpha):\n",
    "    Ztest = (teststat-nullvalue)/se\n",
    "    pvalue = stat.norm.pdf(Ztest)\n",
    "    if Ztest > 0.: #this considers both sides of 0, e.g. when Z is 1SD, the value ~ .8413\n",
    "        pvalue = 1. -pvalue\n",
    "    pvalue *= 2.\n",
    "    #crit1 = stat.norm.ppf(alpha/2.) \n",
    "    #crit2 = stat.norm.ppf(1-alpha/2.)\n",
    "    return program_output(pvalue, alpha)\n",
    "\n",
    "def two_proportions(x0, n0, x1, n1, alpha=0.05):\n",
    "    p0 = float(x0)/n0\n",
    "    p1 = float(x1)/n1\n",
    "    p = float(x0 +x1)/(n0+n1)\n",
    "    samplestat =  p0 - p1 #sample statistic\n",
    "    se = sqrt(p*(1.0-p) * (1.0/n0 + 1.0/n1))\n",
    "    print 'p_0 = %f and p_1= %f' %(p0,p1)\n",
    "    return ztest_twosides(samplestat,0,  se,  alpha)\n",
    "\n",
    "def program_output(pvalue,alpha):\n",
    "    print 'The Null hypothesis is {}'.format( 'rejected.' if pvalue<alpha  else 'not rejected.') \n",
    "    print 'The p-value is %f.' %(pvalue)\n"
   ]
  },
  {
   "cell_type": "code",
   "execution_count": 45,
   "metadata": {
    "collapsed": false
   },
   "outputs": [],
   "source": [
    "#fraction of 'tourists' is the desired proportion, and we'd liek to see what happend with the 'treatment', i.e. summer.\n",
    "x0 = df0['usertype'].value_counts()[1]  \n",
    "x1 = df1['usertype'].value_counts()[1]\n",
    "n0 = len(df0.index)\n",
    "n1 = len(df1.index)"
   ]
  },
  {
   "cell_type": "code",
   "execution_count": 46,
   "metadata": {
    "collapsed": false
   },
   "outputs": [
    {
     "name": "stdout",
     "output_type": "stream",
     "text": [
      "p_0 = 0.029888 and p_1= 0.141023\n",
      "The Null hypothesis is rejected.\n",
      "The p-value is 0.000000.\n"
     ]
    }
   ],
   "source": [
    "two_proportions(x0, n0, x1, n1, 0.01) #should return p-value, z, and critical valies\n"
   ]
  },
  {
   "cell_type": "code",
   "execution_count": 38,
   "metadata": {
    "collapsed": false
   },
   "outputs": [],
   "source": [
    "#maybe if we wish to do additional testing especially ChiSq, we'd look at day of week and proportion of 'Customers'?\n",
    "def weekday_maker(df,column_name):\n",
    "    #create error controls here\n",
    "    df[column_name] = pd.to_datetime(df[column_name])\n",
    "    df['weekday'] = df[column_name].dt.dayofweek\n",
    "    days = {0:'Mon',1:'Tues',2:'Weds',3:'Thurs',4:'Fri',5:'Sat',6:'Sun'}\n",
    "    df['weekday'] = df['weekday'].apply(lambda x: days[x])\n",
    "    \n"
   ]
  },
  {
   "cell_type": "code",
   "execution_count": 39,
   "metadata": {
    "collapsed": false
   },
   "outputs": [],
   "source": [
    "weekday_maker(df1,'starttime')\n",
    "weekday_maker(df0,'starttime')"
   ]
  },
  {
   "cell_type": "code",
   "execution_count": 24,
   "metadata": {
    "collapsed": false
   },
   "outputs": [
    {
     "data": {
      "text/plain": [
       "starttime\n",
       "2014-08-01 00:00:04    1\n",
       "2014-08-01 00:00:05    1\n",
       "2014-08-01 00:00:07    1\n",
       "2014-08-01 00:00:11    1\n",
       "2014-08-01 00:00:15    1\n",
       "2014-08-01 00:00:17    1\n",
       "2014-08-01 00:00:35    1\n",
       "2014-08-01 00:00:43    1\n",
       "2014-08-01 00:00:44    1\n",
       "2014-08-01 00:00:46    1\n",
       "2014-08-01 00:00:54    1\n",
       "2014-08-01 00:00:57    1\n",
       "2014-08-01 00:01:01    1\n",
       "2014-08-01 00:01:05    1\n",
       "2014-08-01 00:01:07    1\n",
       "...\n",
       "2014-08-31 23:58:06    1\n",
       "2014-08-31 23:58:30    1\n",
       "2014-08-31 23:58:31    1\n",
       "2014-08-31 23:58:38    1\n",
       "2014-08-31 23:58:42    1\n",
       "2014-08-31 23:58:43    1\n",
       "2014-08-31 23:58:47    1\n",
       "2014-08-31 23:58:53    1\n",
       "2014-08-31 23:58:54    2\n",
       "2014-08-31 23:59:04    1\n",
       "2014-08-31 23:59:06    1\n",
       "2014-08-31 23:59:17    1\n",
       "2014-08-31 23:59:21    1\n",
       "2014-08-31 23:59:38    1\n",
       "2014-08-31 23:59:47    1\n",
       "Length: 735950"
      ]
     },
     "execution_count": 24,
     "metadata": {},
     "output_type": "execute_result"
    }
   ],
   "source": [
    " df1.groupby(['starttime']).apply(len) #have to group by date and take mean counts\n",
    "    "
   ]
  },
  {
   "cell_type": "code",
   "execution_count": 22,
   "metadata": {
    "collapsed": false
   },
   "outputs": [
    {
     "data": {
      "text/html": [
       "<div style=\"max-height:1000px;max-width:1500px;overflow:auto;\">\n",
       "<table border=\"1\" class=\"dataframe\">\n",
       "  <thead>\n",
       "    <tr style=\"text-align: right;\">\n",
       "      <th></th>\n",
       "      <th>tripduration</th>\n",
       "      <th>start station id</th>\n",
       "      <th>start station latitude</th>\n",
       "      <th>start station longitude</th>\n",
       "      <th>end station id</th>\n",
       "      <th>end station latitude</th>\n",
       "      <th>end station longitude</th>\n",
       "      <th>bikeid</th>\n",
       "      <th>gender</th>\n",
       "    </tr>\n",
       "    <tr>\n",
       "      <th>weekday</th>\n",
       "      <th></th>\n",
       "      <th></th>\n",
       "      <th></th>\n",
       "      <th></th>\n",
       "      <th></th>\n",
       "      <th></th>\n",
       "      <th></th>\n",
       "      <th></th>\n",
       "      <th></th>\n",
       "    </tr>\n",
       "  </thead>\n",
       "  <tbody>\n",
       "    <tr>\n",
       "      <th>Fri</th>\n",
       "      <td> 27671385</td>\n",
       "      <td> 13349025</td>\n",
       "      <td> 1237165.745931</td>\n",
       "      <td>-2247155.390106</td>\n",
       "      <td> 13415515</td>\n",
       "      <td> 1237165.145362</td>\n",
       "      <td>-2247159.485221</td>\n",
       "      <td> 546802695</td>\n",
       "      <td> 34956</td>\n",
       "    </tr>\n",
       "    <tr>\n",
       "      <th>Mon</th>\n",
       "      <td> 22443604</td>\n",
       "      <td> 12002299</td>\n",
       "      <td> 1108889.573981</td>\n",
       "      <td>-2014163.917793</td>\n",
       "      <td> 12044798</td>\n",
       "      <td> 1108883.937020</td>\n",
       "      <td>-2014164.980215</td>\n",
       "      <td> 490085628</td>\n",
       "      <td> 31486</td>\n",
       "    </tr>\n",
       "    <tr>\n",
       "      <th>Sat</th>\n",
       "      <td> 32097716</td>\n",
       "      <td> 14811168</td>\n",
       "      <td> 1387435.288659</td>\n",
       "      <td>-2520272.807689</td>\n",
       "      <td> 14816861</td>\n",
       "      <td> 1387434.061476</td>\n",
       "      <td>-2520281.810266</td>\n",
       "      <td> 613883459</td>\n",
       "      <td> 39211</td>\n",
       "    </tr>\n",
       "    <tr>\n",
       "      <th>Sun</th>\n",
       "      <td> 32823722</td>\n",
       "      <td> 15413141</td>\n",
       "      <td> 1431276.463150</td>\n",
       "      <td>-2599968.212387</td>\n",
       "      <td> 15464364</td>\n",
       "      <td> 1431270.694323</td>\n",
       "      <td>-2599973.405546</td>\n",
       "      <td> 633242827</td>\n",
       "      <td> 40635</td>\n",
       "    </tr>\n",
       "    <tr>\n",
       "      <th>Thurs</th>\n",
       "      <td> 28947907</td>\n",
       "      <td> 13987617</td>\n",
       "      <td> 1299466.005631</td>\n",
       "      <td>-2360279.360149</td>\n",
       "      <td> 14059670</td>\n",
       "      <td> 1299460.687278</td>\n",
       "      <td>-2360287.139621</td>\n",
       "      <td> 574591818</td>\n",
       "      <td> 36727</td>\n",
       "    </tr>\n",
       "    <tr>\n",
       "      <th>Tues</th>\n",
       "      <td> 28103147</td>\n",
       "      <td> 15478455</td>\n",
       "      <td> 1426639.581261</td>\n",
       "      <td>-2591285.391416</td>\n",
       "      <td> 15562281</td>\n",
       "      <td> 1426633.291697</td>\n",
       "      <td>-2591285.531067</td>\n",
       "      <td> 630528610</td>\n",
       "      <td> 40628</td>\n",
       "    </tr>\n",
       "    <tr>\n",
       "      <th>Weds</th>\n",
       "      <td> 24448603</td>\n",
       "      <td> 13663128</td>\n",
       "      <td> 1263605.795396</td>\n",
       "      <td>-2295178.320896</td>\n",
       "      <td> 13687104</td>\n",
       "      <td> 1263597.995186</td>\n",
       "      <td>-2295181.345911</td>\n",
       "      <td> 558494765</td>\n",
       "      <td> 35841</td>\n",
       "    </tr>\n",
       "  </tbody>\n",
       "</table>\n",
       "</div>"
      ],
      "text/plain": [
       "         tripduration  start station id  start station latitude  \\\n",
       "weekday                                                           \n",
       "Fri          27671385          13349025          1237165.745931   \n",
       "Mon          22443604          12002299          1108889.573981   \n",
       "Sat          32097716          14811168          1387435.288659   \n",
       "Sun          32823722          15413141          1431276.463150   \n",
       "Thurs        28947907          13987617          1299466.005631   \n",
       "Tues         28103147          15478455          1426639.581261   \n",
       "Weds         24448603          13663128          1263605.795396   \n",
       "\n",
       "         start station longitude  end station id  end station latitude  \\\n",
       "weekday                                                                  \n",
       "Fri              -2247155.390106        13415515        1237165.145362   \n",
       "Mon              -2014163.917793        12044798        1108883.937020   \n",
       "Sat              -2520272.807689        14816861        1387434.061476   \n",
       "Sun              -2599968.212387        15464364        1431270.694323   \n",
       "Thurs            -2360279.360149        14059670        1299460.687278   \n",
       "Tues             -2591285.391416        15562281        1426633.291697   \n",
       "Weds             -2295178.320896        13687104        1263597.995186   \n",
       "\n",
       "         end station longitude     bikeid  gender  \n",
       "weekday                                            \n",
       "Fri            -2247159.485221  546802695   34956  \n",
       "Mon            -2014164.980215  490085628   31486  \n",
       "Sat            -2520281.810266  613883459   39211  \n",
       "Sun            -2599973.405546  633242827   40635  \n",
       "Thurs          -2360287.139621  574591818   36727  \n",
       "Tues           -2591285.531067  630528610   40628  \n",
       "Weds           -2295181.345911  558494765   35841  "
      ]
     },
     "execution_count": 22,
     "metadata": {},
     "output_type": "execute_result"
    }
   ],
   "source": [
    "df0.groupby(['weekday']).sum()"
   ]
  },
  {
   "cell_type": "code",
   "execution_count": null,
   "metadata": {
    "collapsed": true
   },
   "outputs": [],
   "source": []
  },
  {
   "cell_type": "code",
   "execution_count": null,
   "metadata": {
    "collapsed": true
   },
   "outputs": [],
   "source": []
  }
 ],
 "metadata": {
  "kernelspec": {
   "display_name": "Python 2",
   "language": "python",
   "name": "python2"
  },
  "language_info": {
   "codemirror_mode": {
    "name": "ipython",
    "version": 2
   },
   "file_extension": ".py",
   "mimetype": "text/x-python",
   "name": "python",
   "nbconvert_exporter": "python",
   "pygments_lexer": "ipython2",
   "version": "2.7.9"
  }
 },
 "nbformat": 4,
 "nbformat_minor": 0
}
